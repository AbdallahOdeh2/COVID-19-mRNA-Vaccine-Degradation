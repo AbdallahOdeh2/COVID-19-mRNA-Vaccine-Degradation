{
  "cells": [
    {
      "cell_type": "code",
      "execution_count": 1,
      "metadata": {
        "colab": {
          "base_uri": "https://localhost:8080/"
        },
        "id": "THaGAPmfY5-S",
        "outputId": "12a1e637-c9f6-46b3-87f3-ea88bdb2486e"
      },
      "outputs": [
        {
          "output_type": "stream",
          "name": "stdout",
          "text": [
            "Mounted at /content/drive\n"
          ]
        }
      ],
      "source": [
        "import cv2 as cv\n",
        "import pandas as pd\n",
        "import numpy as np\n",
        "import matplotlib.pyplot as plt\n",
        "import seaborn as sns\n",
        "from google.colab import drive\n",
        "drive.mount('/content/drive', force_remount=True)"
      ]
    },
    {
      "cell_type": "code",
      "execution_count": 2,
      "metadata": {
        "id": "NfXI_QopY6tc"
      },
      "outputs": [],
      "source": [
        "df = pd.read_csv('/content/train.csv')"
      ]
    },
    {
      "cell_type": "code",
      "source": [
        "df = df.sort_values(by=['id_seqpos'], key=lambda x: x.str.extract(r'_(\\d+)$').astype(int).iloc[:, 0])"
      ],
      "metadata": {
        "id": "8XJO_5Fk7Z67"
      },
      "execution_count": 3,
      "outputs": []
    },
    {
      "cell_type": "code",
      "source": [
        "a = ['b1_structure','b2_structure','b3_structure','b4_structure','b5_structure']\n",
        "for i in a:\n",
        "   df[i] = df[i].replace({'.':2 , '(': 0 , ')':1,'-1':-1})\n",
        "b = ['b1_sequence','b2_sequence','b3_sequence','b4_sequence','b5_sequence']\n",
        "for e in b:\n",
        "   df[e] = df[e].replace({'A':3 , 'C': 4 , 'G':5,'U':6,'-1':-1})\n",
        "c = ['b1_predicted_loop_type','b2_predicted_loop_type','b3_predicted_loop_type','b4_predicted_loop_type','b5_predicted_loop_type']\n",
        "for t in c:\n",
        "   df[t] = df[t].replace({'B':7 , 'E': 8 , 'H':9,'I':10,'M':11,'S':12,'X':13,'-1':-1})\n",
        "d = ['sequence','a1_sequence','a2_sequence','a3_sequence','a4_sequence','a5_sequence']\n",
        "for q in d:   \n",
        "  df[q] = df[q].replace({'A':3 , 'C': 4 , 'G':5,'U':6})\n",
        "e = ['structure','a1_structure','a2_structure','a3_structure','a4_structure','a5_structure']  \n",
        "for p in e:\n",
        "  df[p] = df[p].replace({'.':2 , '(': 0 , ')':1})\n",
        "f = ['predicted_loop_type','a1_predicted_loop_type','a1_predicted_loop_type','a2_predicted_loop_type','a3_predicted_loop_type','a4_predicted_loop_type','a5_predicted_loop_type']  \n",
        "for o in f:\n",
        "  df[o] = df[o].replace({'B':7 , 'E': 8 , 'H':9,'I':10,'M':11,'S':12,'X':13})"
      ],
      "metadata": {
        "id": "oBwIoC8eyNgn"
      },
      "execution_count": 4,
      "outputs": []
    },
    {
      "cell_type": "code",
      "source": [
        "X = df.drop(['id','id_seqpos','reactivity','deg_Mg_pH10','deg_Mg_50C'],axis=1)\n",
        "y = df[['reactivity', 'deg_Mg_pH10', 'deg_Mg_50C']]\n"
      ],
      "metadata": {
        "id": "piO0qfm8LG_p"
      },
      "execution_count": 5,
      "outputs": []
    },
    {
      "cell_type": "code",
      "source": [
        "from sklearn.model_selection import train_test_split , KFold\n",
        "X_train, X_test, y_train, y_test = train_test_split(X, y, test_size=0.18, random_state=40)"
      ],
      "metadata": {
        "id": "BIoS_3nxLrXL"
      },
      "execution_count": 6,
      "outputs": []
    },
    {
      "cell_type": "code",
      "source": [
        "from xgboost import XGBRegressor\n",
        "xgb_model = XGBRegressor(max_depth=6,learning_rate=0.18,colsample_bytree=0.9,reg_alpha=5,reg_lambda=6\n",
        "                      ,min_child_weight = 2,n_estimators=90000)\n",
        "\n",
        "\n",
        "xgb_model.fit(X_train, y_train, early_stopping_rounds=8,eval_set=[(X_test, y_test)],eval_metric='rmse', verbose=False)\n",
        "\n",
        "y_pred_xgb = xgb_model.predict(X_test)\n"
      ],
      "metadata": {
        "colab": {
          "base_uri": "https://localhost:8080/"
        },
        "id": "cAeoG9DCLvLx",
        "outputId": "71f10694-579d-4d1e-840e-9932ddc7f3ab"
      },
      "execution_count": 7,
      "outputs": [
        {
          "output_type": "stream",
          "name": "stderr",
          "text": [
            "/usr/local/lib/python3.10/dist-packages/xgboost/sklearn.py:835: UserWarning: `eval_metric` in `fit` method is deprecated for better compatibility with scikit-learn, use `eval_metric` in constructor or`set_params` instead.\n",
            "  warnings.warn(\n",
            "/usr/local/lib/python3.10/dist-packages/xgboost/sklearn.py:835: UserWarning: `early_stopping_rounds` in `fit` method is deprecated for better compatibility with scikit-learn, use `early_stopping_rounds` in constructor or`set_params` instead.\n",
            "  warnings.warn(\n"
          ]
        }
      ]
    },
    {
      "cell_type": "code",
      "source": [
        "def MCRMSE_numpy(y_true, y_pred):\n",
        "    colwise_mse = np.mean(np.square(y_true - y_pred), axis=1)\n",
        "    return np.mean(np.sqrt(colwise_mse))"
      ],
      "metadata": {
        "id": "b0Kn_ZdkMD4I"
      },
      "execution_count": 8,
      "outputs": []
    },
    {
      "cell_type": "code",
      "source": [
        "print(MCRMSE_numpy(y_test,y_pred_xgb))\n",
        "print(xgb_model.score(X_train,y_train) * 100)\n",
        "print(xgb_model.score(X_test,y_test) * 100)"
      ],
      "metadata": {
        "colab": {
          "base_uri": "https://localhost:8080/"
        },
        "id": "KPFY18bvazar",
        "outputId": "52e76363-bf23-4e6a-a581-ccc761f4ca8f"
      },
      "execution_count": 9,
      "outputs": [
        {
          "output_type": "stream",
          "name": "stdout",
          "text": [
            "0.17275479409248995\n",
            "87.53002245868574\n",
            "62.40999848781593\n"
          ]
        }
      ]
    },
    {
      "cell_type": "code",
      "source": [
        "from sklearn.metrics import make_scorer\n",
        "def mcrmse (y_true,y_pred,N=3):\n",
        "  assert len(y_true) == len(y_pred)\n",
        "  n = len(y_true)\n",
        "  return np.sum(np.sqrt(np.sum((y_true - y_pred)**2,axis=0)/n)) / N\n",
        "aa = make_scorer(mcrmse , greater_is_better = False)\n",
        "print(mcrmse(xgb_model.predict(X_test) , np.array(y_test)))\n",
        "print(mcrmse(xgb_model.predict(X_train) , np.array(y_train)))"
      ],
      "metadata": {
        "colab": {
          "base_uri": "https://localhost:8080/"
        },
        "id": "k6L4m2RZTXQ2",
        "outputId": "9af12291-91cb-40f0-98e4-c75a359f08ea"
      },
      "execution_count": null,
      "outputs": [
        {
          "output_type": "stream",
          "name": "stdout",
          "text": [
            "0.3507883082460285\n",
            "0.2094439373124408\n"
          ]
        }
      ]
    },
    {
      "cell_type": "code",
      "source": [
        "test = pd.read_csv('/content/drive/MyDrive/test.csv')"
      ],
      "metadata": {
        "id": "Eo0wGUHUL5-_"
      },
      "execution_count": null,
      "outputs": []
    },
    {
      "cell_type": "code",
      "source": [
        "a = ['b1_structure','b2_structure','b3_structure','b4_structure','b5_structure']\n",
        "for i in a:\n",
        "   test[i] = test[i].replace({'.':0 , '(': 1 , ')':2,'-1':3})\n",
        "b = ['b1_sequence','b2_sequence','b3_sequence','b4_sequence','b5_sequence']\n",
        "for e in b:\n",
        "   test[e] = test[e].replace({'A':0 , 'C': 1 , 'G':2,'U':3,'-1':4})\n",
        "c = ['b1_predicted_loop_type','b2_predicted_loop_type','b3_predicted_loop_type','b4_predicted_loop_type','b5_predicted_loop_type']\n",
        "for t in c:\n",
        "   test[t] = test[t].replace({'B':0 , 'E': 1 , 'H':2,'I':3,'M':4,'S':5,'X':6,'-1':7})\n",
        "d = ['sequence','a1_sequence','a2_sequence','a3_sequence','a4_sequence','a5_sequence']\n",
        "for q in d:   \n",
        "  test[q] = test[q].replace({'A':0 , 'C': 1 , 'G':2,'U':3})\n",
        "e = ['structure','a1_structure','a2_structure','a3_structure','a4_structure','a5_structure']  \n",
        "for p in e:\n",
        "  test[p] = test[p].replace({'.':0 , '(': 1 , ')':2})\n",
        "f = ['predicted_loop_type','a1_predicted_loop_type','a1_predicted_loop_type','a2_predicted_loop_type','a3_predicted_loop_type','a4_predicted_loop_type','a5_predicted_loop_type']  \n",
        "for o in f:\n",
        "  test[o] = test[o].replace({'B':0 , 'E': 1 , 'H':2,'I':3,'M':4,'S':5,'X':6})"
      ],
      "metadata": {
        "id": "gAMC5bUKOkjc"
      },
      "execution_count": null,
      "outputs": []
    },
    {
      "cell_type": "code",
      "source": [
        "ID = test['id_seqpos']\n",
        "TEST = test.drop(['id_seqpos','id'],axis=1)\n",
        "a = xgb_model.predict(TEST)\n",
        "new = pd.DataFrame(a,columns=['reactivity','deg_Mg_pH10','deg_Mg_50C'])"
      ],
      "metadata": {
        "id": "QfheL1EGO7bq"
      },
      "execution_count": null,
      "outputs": []
    },
    {
      "cell_type": "code",
      "source": [
        "new_data = pd.concat([ID.rename('id_seqpos'),new], axis=1)"
      ],
      "metadata": {
        "id": "EOUOqj_EPECp"
      },
      "execution_count": null,
      "outputs": []
    },
    {
      "cell_type": "code",
      "source": [
        "new_data.to_csv('xgboost_new_tunning.csv',index=False)"
      ],
      "metadata": {
        "id": "759w8fqhPIBE"
      },
      "execution_count": null,
      "outputs": []
    },
    {
      "cell_type": "code",
      "source": [
        "new_data"
      ],
      "metadata": {
        "colab": {
          "base_uri": "https://localhost:8080/",
          "height": 424
        },
        "id": "hlsjIDJ-PLkG",
        "outputId": "d76d75de-5b79-4047-dbca-85b749e7160a"
      },
      "execution_count": null,
      "outputs": [
        {
          "output_type": "execute_result",
          "data": {
            "text/plain": [
              "             id_seqpos  reactivity  deg_Mg_pH10  deg_Mg_50C\n",
              "0       id_001f94081_0    0.651161     1.303060    0.778812\n",
              "1       id_001f94081_4    0.879710     0.726091    0.711568\n",
              "2       id_001f94081_8    0.140349     0.204849    0.103310\n",
              "3       id_001f94081_9    0.524826     0.649451    0.965863\n",
              "4      id_001f94081_13    0.893850     0.886185    1.040395\n",
              "...                ...         ...          ...         ...\n",
              "32635  id_fff546103_39    0.007572     0.165827    0.045841\n",
              "32636  id_fff546103_52    0.061107     0.160196    0.061730\n",
              "32637  id_fff546103_62    0.399856     0.350042    0.358902\n",
              "32638  id_fff546103_65    0.093712     0.218223    0.183091\n",
              "32639  id_fff546103_66    0.008418     0.217183    0.184611\n",
              "\n",
              "[32640 rows x 4 columns]"
            ],
            "text/html": [
              "\n",
              "  <div id=\"df-73ad088a-f641-4159-ad65-1d2864cb9055\">\n",
              "    <div class=\"colab-df-container\">\n",
              "      <div>\n",
              "<style scoped>\n",
              "    .dataframe tbody tr th:only-of-type {\n",
              "        vertical-align: middle;\n",
              "    }\n",
              "\n",
              "    .dataframe tbody tr th {\n",
              "        vertical-align: top;\n",
              "    }\n",
              "\n",
              "    .dataframe thead th {\n",
              "        text-align: right;\n",
              "    }\n",
              "</style>\n",
              "<table border=\"1\" class=\"dataframe\">\n",
              "  <thead>\n",
              "    <tr style=\"text-align: right;\">\n",
              "      <th></th>\n",
              "      <th>id_seqpos</th>\n",
              "      <th>reactivity</th>\n",
              "      <th>deg_Mg_pH10</th>\n",
              "      <th>deg_Mg_50C</th>\n",
              "    </tr>\n",
              "  </thead>\n",
              "  <tbody>\n",
              "    <tr>\n",
              "      <th>0</th>\n",
              "      <td>id_001f94081_0</td>\n",
              "      <td>0.651161</td>\n",
              "      <td>1.303060</td>\n",
              "      <td>0.778812</td>\n",
              "    </tr>\n",
              "    <tr>\n",
              "      <th>1</th>\n",
              "      <td>id_001f94081_4</td>\n",
              "      <td>0.879710</td>\n",
              "      <td>0.726091</td>\n",
              "      <td>0.711568</td>\n",
              "    </tr>\n",
              "    <tr>\n",
              "      <th>2</th>\n",
              "      <td>id_001f94081_8</td>\n",
              "      <td>0.140349</td>\n",
              "      <td>0.204849</td>\n",
              "      <td>0.103310</td>\n",
              "    </tr>\n",
              "    <tr>\n",
              "      <th>3</th>\n",
              "      <td>id_001f94081_9</td>\n",
              "      <td>0.524826</td>\n",
              "      <td>0.649451</td>\n",
              "      <td>0.965863</td>\n",
              "    </tr>\n",
              "    <tr>\n",
              "      <th>4</th>\n",
              "      <td>id_001f94081_13</td>\n",
              "      <td>0.893850</td>\n",
              "      <td>0.886185</td>\n",
              "      <td>1.040395</td>\n",
              "    </tr>\n",
              "    <tr>\n",
              "      <th>...</th>\n",
              "      <td>...</td>\n",
              "      <td>...</td>\n",
              "      <td>...</td>\n",
              "      <td>...</td>\n",
              "    </tr>\n",
              "    <tr>\n",
              "      <th>32635</th>\n",
              "      <td>id_fff546103_39</td>\n",
              "      <td>0.007572</td>\n",
              "      <td>0.165827</td>\n",
              "      <td>0.045841</td>\n",
              "    </tr>\n",
              "    <tr>\n",
              "      <th>32636</th>\n",
              "      <td>id_fff546103_52</td>\n",
              "      <td>0.061107</td>\n",
              "      <td>0.160196</td>\n",
              "      <td>0.061730</td>\n",
              "    </tr>\n",
              "    <tr>\n",
              "      <th>32637</th>\n",
              "      <td>id_fff546103_62</td>\n",
              "      <td>0.399856</td>\n",
              "      <td>0.350042</td>\n",
              "      <td>0.358902</td>\n",
              "    </tr>\n",
              "    <tr>\n",
              "      <th>32638</th>\n",
              "      <td>id_fff546103_65</td>\n",
              "      <td>0.093712</td>\n",
              "      <td>0.218223</td>\n",
              "      <td>0.183091</td>\n",
              "    </tr>\n",
              "    <tr>\n",
              "      <th>32639</th>\n",
              "      <td>id_fff546103_66</td>\n",
              "      <td>0.008418</td>\n",
              "      <td>0.217183</td>\n",
              "      <td>0.184611</td>\n",
              "    </tr>\n",
              "  </tbody>\n",
              "</table>\n",
              "<p>32640 rows × 4 columns</p>\n",
              "</div>\n",
              "      <button class=\"colab-df-convert\" onclick=\"convertToInteractive('df-73ad088a-f641-4159-ad65-1d2864cb9055')\"\n",
              "              title=\"Convert this dataframe to an interactive table.\"\n",
              "              style=\"display:none;\">\n",
              "        \n",
              "  <svg xmlns=\"http://www.w3.org/2000/svg\" height=\"24px\"viewBox=\"0 0 24 24\"\n",
              "       width=\"24px\">\n",
              "    <path d=\"M0 0h24v24H0V0z\" fill=\"none\"/>\n",
              "    <path d=\"M18.56 5.44l.94 2.06.94-2.06 2.06-.94-2.06-.94-.94-2.06-.94 2.06-2.06.94zm-11 1L8.5 8.5l.94-2.06 2.06-.94-2.06-.94L8.5 2.5l-.94 2.06-2.06.94zm10 10l.94 2.06.94-2.06 2.06-.94-2.06-.94-.94-2.06-.94 2.06-2.06.94z\"/><path d=\"M17.41 7.96l-1.37-1.37c-.4-.4-.92-.59-1.43-.59-.52 0-1.04.2-1.43.59L10.3 9.45l-7.72 7.72c-.78.78-.78 2.05 0 2.83L4 21.41c.39.39.9.59 1.41.59.51 0 1.02-.2 1.41-.59l7.78-7.78 2.81-2.81c.8-.78.8-2.07 0-2.86zM5.41 20L4 18.59l7.72-7.72 1.47 1.35L5.41 20z\"/>\n",
              "  </svg>\n",
              "      </button>\n",
              "      \n",
              "  <style>\n",
              "    .colab-df-container {\n",
              "      display:flex;\n",
              "      flex-wrap:wrap;\n",
              "      gap: 12px;\n",
              "    }\n",
              "\n",
              "    .colab-df-convert {\n",
              "      background-color: #E8F0FE;\n",
              "      border: none;\n",
              "      border-radius: 50%;\n",
              "      cursor: pointer;\n",
              "      display: none;\n",
              "      fill: #1967D2;\n",
              "      height: 32px;\n",
              "      padding: 0 0 0 0;\n",
              "      width: 32px;\n",
              "    }\n",
              "\n",
              "    .colab-df-convert:hover {\n",
              "      background-color: #E2EBFA;\n",
              "      box-shadow: 0px 1px 2px rgba(60, 64, 67, 0.3), 0px 1px 3px 1px rgba(60, 64, 67, 0.15);\n",
              "      fill: #174EA6;\n",
              "    }\n",
              "\n",
              "    [theme=dark] .colab-df-convert {\n",
              "      background-color: #3B4455;\n",
              "      fill: #D2E3FC;\n",
              "    }\n",
              "\n",
              "    [theme=dark] .colab-df-convert:hover {\n",
              "      background-color: #434B5C;\n",
              "      box-shadow: 0px 1px 3px 1px rgba(0, 0, 0, 0.15);\n",
              "      filter: drop-shadow(0px 1px 2px rgba(0, 0, 0, 0.3));\n",
              "      fill: #FFFFFF;\n",
              "    }\n",
              "  </style>\n",
              "\n",
              "      <script>\n",
              "        const buttonEl =\n",
              "          document.querySelector('#df-73ad088a-f641-4159-ad65-1d2864cb9055 button.colab-df-convert');\n",
              "        buttonEl.style.display =\n",
              "          google.colab.kernel.accessAllowed ? 'block' : 'none';\n",
              "\n",
              "        async function convertToInteractive(key) {\n",
              "          const element = document.querySelector('#df-73ad088a-f641-4159-ad65-1d2864cb9055');\n",
              "          const dataTable =\n",
              "            await google.colab.kernel.invokeFunction('convertToInteractive',\n",
              "                                                     [key], {});\n",
              "          if (!dataTable) return;\n",
              "\n",
              "          const docLinkHtml = 'Like what you see? Visit the ' +\n",
              "            '<a target=\"_blank\" href=https://colab.research.google.com/notebooks/data_table.ipynb>data table notebook</a>'\n",
              "            + ' to learn more about interactive tables.';\n",
              "          element.innerHTML = '';\n",
              "          dataTable['output_type'] = 'display_data';\n",
              "          await google.colab.output.renderOutput(dataTable, element);\n",
              "          const docLink = document.createElement('div');\n",
              "          docLink.innerHTML = docLinkHtml;\n",
              "          element.appendChild(docLink);\n",
              "        }\n",
              "      </script>\n",
              "    </div>\n",
              "  </div>\n",
              "  "
            ]
          },
          "metadata": {},
          "execution_count": 19
        }
      ]
    },
    {
      "cell_type": "code",
      "source": [],
      "metadata": {
        "id": "ol7sbB8ZX1iF"
      },
      "execution_count": null,
      "outputs": []
    }
  ],
  "metadata": {
    "colab": {
      "provenance": []
    },
    "kernelspec": {
      "display_name": "Python 3",
      "name": "python3"
    },
    "language_info": {
      "name": "python"
    }
  },
  "nbformat": 4,
  "nbformat_minor": 0
}